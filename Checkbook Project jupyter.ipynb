{
 "cells": [
  {
   "cell_type": "code",
   "execution_count": 14,
   "id": "c118d65b",
   "metadata": {},
   "outputs": [],
   "source": [
    "def menu():\n",
    "    print('Welcome to your checkbook! \\nMenu \\n1. View current balance','\\n2. Add a debit transaction','\\n3. Add a credit transaction','\\n4. Exit')\n",
    "    selection = input('Please make a selection: ')\n",
    "    if selection == '1':\n",
    "        current_balance()\n",
    "    elif selection == '2':\n",
    "        debit_transaction()\n",
    "    elif selection == '3':\n",
    "        credit_transaction()\n",
    "    elif selection == '4':\n",
    "        exit()\n",
    "    return selection"
   ]
  },
  {
   "cell_type": "code",
   "execution_count": null,
   "id": "ada7b1be",
   "metadata": {},
   "outputs": [
    {
     "name": "stdout",
     "output_type": "stream",
     "text": [
      "Welcome to your checkbook! \n",
      "Menu \n",
      "1. View current balance \n",
      "2. Add a debit transaction \n",
      "3. Add a credit transaction \n",
      "4. Exit\n",
      "Please make a selection: 1\n",
      "Congrats! Your checkbook exists!\n",
      "['current balance: 0date\\n', 'description\\n', 'dollar_amountdate\\n', 'description\\n', \"dollar_amount{'date': '02/20/2022', 'description': 'milk', 'dollar_amount': '2'}{'date': '02/20/2022', 'description': 'milk', 'dollar_amount': '2'}{'date': '02/03/2022', 'description': 'pay', 'dollar_amount': '50'}{'date': '02/02/20202', 'description': 'milk', 'dollar_amount': '2'}{'date': '02/02/2020', 'description': 'milk', 'dollar_amount': '2'}{'date': '02/02/2022', 'description': 'milk', 'dollar_amount': '3'}{'date': '03/20/2023', 'description': 'pay', 'dollar_amount': '50'}\"]\n",
      "Welcome to your checkbook! \n",
      "Menu \n",
      "1. View current balance \n",
      "2. Add a debit transaction \n",
      "3. Add a credit transaction \n",
      "4. Exit\n"
     ]
    }
   ],
   "source": [
    "menu()"
   ]
  },
  {
   "cell_type": "code",
   "execution_count": 13,
   "id": "a536585d",
   "metadata": {},
   "outputs": [],
   "source": [
    "def save_file(x):\n",
    "    with open('my_file.txt', 'a') as f:\n",
    "        return f.writelines(str(x))"
   ]
  },
  {
   "cell_type": "markdown",
   "id": "9847dd56",
   "metadata": {},
   "source": [
    "### View current balance"
   ]
  },
  {
   "cell_type": "code",
   "execution_count": null,
   "id": "ff825056",
   "metadata": {},
   "outputs": [],
   "source": [
    "def current_balance():\n",
    "    import os\n",
    "    if os.path.exists('my_file.txt'):\n",
    "        print('Congrats! Your checkbook exists!')\n",
    "        with open('my_file.txt', 'r') as f:\n",
    "            lines = f.readlines()\n",
    "        print(lines)\n",
    "    else:\n",
    "        print('That checkbook does not exist, but no worries I made it for you!')\n",
    "        with open('my_file.txt', 'w') as f:\n",
    "            f.write('current balance: 0')\n",
    "    menu()\n",
    "    \n",
    "current_balance()"
   ]
  },
  {
   "cell_type": "markdown",
   "id": "be84e0ab",
   "metadata": {},
   "source": [
    "### Add a debit (withdraw)"
   ]
  },
  {
   "cell_type": "code",
   "execution_count": null,
   "id": "bf3243e6",
   "metadata": {},
   "outputs": [],
   "source": [
    "def debit_transaction():\n",
    "    transaction = {\n",
    "        'date': input('date: '),\n",
    "        'description': input('description: '),\n",
    "        'dollar_amount': input('dollar amount: ')\n",
    "    }\n",
    "    save_file(transaction)\n",
    "    menu()\n",
    "    return(transaction)\n",
    "\n",
    "debit_transaction()"
   ]
  },
  {
   "cell_type": "markdown",
   "id": "afb1398f",
   "metadata": {},
   "source": [
    "### Add a credit (deposit)"
   ]
  },
  {
   "cell_type": "code",
   "execution_count": 11,
   "id": "e1d8f19a",
   "metadata": {},
   "outputs": [
    {
     "name": "stdout",
     "output_type": "stream",
     "text": [
      "date: 03/20/2023\n",
      "description: pay\n",
      "dollar amount: 50\n",
      "Welcome to your checkbook! \n",
      "Menu \n",
      "1. View current balance \n",
      "2. Add a debit transaction \n",
      "3. Add a credit transaction \n",
      "4. Exit\n",
      "Please make a selection: 1\n",
      "Congrats! Your checkbook exists!\n",
      "['current balance: 0date\\n', 'description\\n', 'dollar_amountdate\\n', 'description\\n', \"dollar_amount{'date': '02/20/2022', 'description': 'milk', 'dollar_amount': '2'}{'date': '02/20/2022', 'description': 'milk', 'dollar_amount': '2'}{'date': '02/03/2022', 'description': 'pay', 'dollar_amount': '50'}{'date': '02/02/20202', 'description': 'milk', 'dollar_amount': '2'}{'date': '02/02/2020', 'description': 'milk', 'dollar_amount': '2'}{'date': '02/02/2022', 'description': 'milk', 'dollar_amount': '3'}{'date': '03/20/2023', 'description': 'pay', 'dollar_amount': '50'}\"]\n",
      "Welcome to your checkbook! \n",
      "Menu \n",
      "1. View current balance \n",
      "2. Add a debit transaction \n",
      "3. Add a credit transaction \n",
      "4. Exit\n"
     ]
    },
    {
     "ename": "KeyboardInterrupt",
     "evalue": "Interrupted by user",
     "output_type": "error",
     "traceback": [
      "\u001b[0;31m---------------------------------------------------------------------------\u001b[0m",
      "\u001b[0;31mKeyboardInterrupt\u001b[0m                         Traceback (most recent call last)",
      "Input \u001b[0;32mIn [11]\u001b[0m, in \u001b[0;36m<cell line: 11>\u001b[0;34m()\u001b[0m\n\u001b[1;32m      8\u001b[0m     menu()\n\u001b[1;32m      9\u001b[0m     \u001b[38;5;28;01mreturn\u001b[39;00m(transaction)\n\u001b[0;32m---> 11\u001b[0m \u001b[43mcredit_transaction\u001b[49m\u001b[43m(\u001b[49m\u001b[43m)\u001b[49m\n",
      "Input \u001b[0;32mIn [11]\u001b[0m, in \u001b[0;36mcredit_transaction\u001b[0;34m()\u001b[0m\n\u001b[1;32m      2\u001b[0m transaction \u001b[38;5;241m=\u001b[39m {\n\u001b[1;32m      3\u001b[0m     \u001b[38;5;124m'\u001b[39m\u001b[38;5;124mdate\u001b[39m\u001b[38;5;124m'\u001b[39m: \u001b[38;5;28minput\u001b[39m(\u001b[38;5;124m'\u001b[39m\u001b[38;5;124mdate: \u001b[39m\u001b[38;5;124m'\u001b[39m),\n\u001b[1;32m      4\u001b[0m     \u001b[38;5;124m'\u001b[39m\u001b[38;5;124mdescription\u001b[39m\u001b[38;5;124m'\u001b[39m: \u001b[38;5;28minput\u001b[39m(\u001b[38;5;124m'\u001b[39m\u001b[38;5;124mdescription: \u001b[39m\u001b[38;5;124m'\u001b[39m),\n\u001b[1;32m      5\u001b[0m     \u001b[38;5;124m'\u001b[39m\u001b[38;5;124mdollar_amount\u001b[39m\u001b[38;5;124m'\u001b[39m: \u001b[38;5;28minput\u001b[39m(\u001b[38;5;124m'\u001b[39m\u001b[38;5;124mdollar amount: \u001b[39m\u001b[38;5;124m'\u001b[39m)\n\u001b[1;32m      6\u001b[0m }\n\u001b[1;32m      7\u001b[0m save_file(transaction)\n\u001b[0;32m----> 8\u001b[0m \u001b[43mmenu\u001b[49m\u001b[43m(\u001b[49m\u001b[43m)\u001b[49m\n\u001b[1;32m      9\u001b[0m \u001b[38;5;28;01mreturn\u001b[39;00m(transaction)\n",
      "Input \u001b[0;32mIn [7]\u001b[0m, in \u001b[0;36mmenu\u001b[0;34m()\u001b[0m\n\u001b[1;32m      3\u001b[0m selection \u001b[38;5;241m=\u001b[39m \u001b[38;5;28minput\u001b[39m(\u001b[38;5;124m'\u001b[39m\u001b[38;5;124mPlease make a selection: \u001b[39m\u001b[38;5;124m'\u001b[39m)\n\u001b[1;32m      4\u001b[0m \u001b[38;5;28;01mif\u001b[39;00m selection \u001b[38;5;241m==\u001b[39m \u001b[38;5;124m'\u001b[39m\u001b[38;5;124m1\u001b[39m\u001b[38;5;124m'\u001b[39m:\n\u001b[0;32m----> 5\u001b[0m     \u001b[43mcurrent_balance\u001b[49m\u001b[43m(\u001b[49m\u001b[43m)\u001b[49m\n\u001b[1;32m      6\u001b[0m \u001b[38;5;28;01melif\u001b[39;00m selection \u001b[38;5;241m==\u001b[39m \u001b[38;5;124m'\u001b[39m\u001b[38;5;124m2\u001b[39m\u001b[38;5;124m'\u001b[39m:\n\u001b[1;32m      7\u001b[0m     debit_transaction()\n",
      "Input \u001b[0;32mIn [1]\u001b[0m, in \u001b[0;36mcurrent_balance\u001b[0;34m()\u001b[0m\n\u001b[1;32m     10\u001b[0m     \u001b[38;5;28;01mwith\u001b[39;00m \u001b[38;5;28mopen\u001b[39m(\u001b[38;5;124m'\u001b[39m\u001b[38;5;124mmy_file.txt\u001b[39m\u001b[38;5;124m'\u001b[39m, \u001b[38;5;124m'\u001b[39m\u001b[38;5;124mw\u001b[39m\u001b[38;5;124m'\u001b[39m) \u001b[38;5;28;01mas\u001b[39;00m f:\n\u001b[1;32m     11\u001b[0m         f\u001b[38;5;241m.\u001b[39mwrite(\u001b[38;5;124m'\u001b[39m\u001b[38;5;124mcurrent balance: 0\u001b[39m\u001b[38;5;124m'\u001b[39m)\n\u001b[0;32m---> 12\u001b[0m \u001b[43mmenu\u001b[49m\u001b[43m(\u001b[49m\u001b[43m)\u001b[49m\n",
      "Input \u001b[0;32mIn [7]\u001b[0m, in \u001b[0;36mmenu\u001b[0;34m()\u001b[0m\n\u001b[1;32m      1\u001b[0m \u001b[38;5;28;01mdef\u001b[39;00m \u001b[38;5;21mmenu\u001b[39m():\n\u001b[1;32m      2\u001b[0m     \u001b[38;5;28mprint\u001b[39m(\u001b[38;5;124m'\u001b[39m\u001b[38;5;124mWelcome to your checkbook! \u001b[39m\u001b[38;5;130;01m\\n\u001b[39;00m\u001b[38;5;124mMenu \u001b[39m\u001b[38;5;130;01m\\n\u001b[39;00m\u001b[38;5;124m1. View current balance\u001b[39m\u001b[38;5;124m'\u001b[39m,\u001b[38;5;124m'\u001b[39m\u001b[38;5;130;01m\\n\u001b[39;00m\u001b[38;5;124m2. Add a debit transaction\u001b[39m\u001b[38;5;124m'\u001b[39m,\u001b[38;5;124m'\u001b[39m\u001b[38;5;130;01m\\n\u001b[39;00m\u001b[38;5;124m3. Add a credit transaction\u001b[39m\u001b[38;5;124m'\u001b[39m,\u001b[38;5;124m'\u001b[39m\u001b[38;5;130;01m\\n\u001b[39;00m\u001b[38;5;124m4. Exit\u001b[39m\u001b[38;5;124m'\u001b[39m)\n\u001b[0;32m----> 3\u001b[0m     selection \u001b[38;5;241m=\u001b[39m \u001b[38;5;28;43minput\u001b[39;49m\u001b[43m(\u001b[49m\u001b[38;5;124;43m'\u001b[39;49m\u001b[38;5;124;43mPlease make a selection: \u001b[39;49m\u001b[38;5;124;43m'\u001b[39;49m\u001b[43m)\u001b[49m\n\u001b[1;32m      4\u001b[0m     \u001b[38;5;28;01mif\u001b[39;00m selection \u001b[38;5;241m==\u001b[39m \u001b[38;5;124m'\u001b[39m\u001b[38;5;124m1\u001b[39m\u001b[38;5;124m'\u001b[39m:\n\u001b[1;32m      5\u001b[0m         current_balance()\n",
      "File \u001b[0;32m/opt/homebrew/anaconda3/lib/python3.9/site-packages/ipykernel/kernelbase.py:1177\u001b[0m, in \u001b[0;36mKernel.raw_input\u001b[0;34m(self, prompt)\u001b[0m\n\u001b[1;32m   1173\u001b[0m \u001b[38;5;28;01mif\u001b[39;00m \u001b[38;5;129;01mnot\u001b[39;00m \u001b[38;5;28mself\u001b[39m\u001b[38;5;241m.\u001b[39m_allow_stdin:\n\u001b[1;32m   1174\u001b[0m     \u001b[38;5;28;01mraise\u001b[39;00m StdinNotImplementedError(\n\u001b[1;32m   1175\u001b[0m         \u001b[38;5;124m\"\u001b[39m\u001b[38;5;124mraw_input was called, but this frontend does not support input requests.\u001b[39m\u001b[38;5;124m\"\u001b[39m\n\u001b[1;32m   1176\u001b[0m     )\n\u001b[0;32m-> 1177\u001b[0m \u001b[38;5;28;01mreturn\u001b[39;00m \u001b[38;5;28;43mself\u001b[39;49m\u001b[38;5;241;43m.\u001b[39;49m\u001b[43m_input_request\u001b[49m\u001b[43m(\u001b[49m\n\u001b[1;32m   1178\u001b[0m \u001b[43m    \u001b[49m\u001b[38;5;28;43mstr\u001b[39;49m\u001b[43m(\u001b[49m\u001b[43mprompt\u001b[49m\u001b[43m)\u001b[49m\u001b[43m,\u001b[49m\n\u001b[1;32m   1179\u001b[0m \u001b[43m    \u001b[49m\u001b[38;5;28;43mself\u001b[39;49m\u001b[38;5;241;43m.\u001b[39;49m\u001b[43m_parent_ident\u001b[49m\u001b[43m[\u001b[49m\u001b[38;5;124;43m\"\u001b[39;49m\u001b[38;5;124;43mshell\u001b[39;49m\u001b[38;5;124;43m\"\u001b[39;49m\u001b[43m]\u001b[49m\u001b[43m,\u001b[49m\n\u001b[1;32m   1180\u001b[0m \u001b[43m    \u001b[49m\u001b[38;5;28;43mself\u001b[39;49m\u001b[38;5;241;43m.\u001b[39;49m\u001b[43mget_parent\u001b[49m\u001b[43m(\u001b[49m\u001b[38;5;124;43m\"\u001b[39;49m\u001b[38;5;124;43mshell\u001b[39;49m\u001b[38;5;124;43m\"\u001b[39;49m\u001b[43m)\u001b[49m\u001b[43m,\u001b[49m\n\u001b[1;32m   1181\u001b[0m \u001b[43m    \u001b[49m\u001b[43mpassword\u001b[49m\u001b[38;5;241;43m=\u001b[39;49m\u001b[38;5;28;43;01mFalse\u001b[39;49;00m\u001b[43m,\u001b[49m\n\u001b[1;32m   1182\u001b[0m \u001b[43m\u001b[49m\u001b[43m)\u001b[49m\n",
      "File \u001b[0;32m/opt/homebrew/anaconda3/lib/python3.9/site-packages/ipykernel/kernelbase.py:1219\u001b[0m, in \u001b[0;36mKernel._input_request\u001b[0;34m(self, prompt, ident, parent, password)\u001b[0m\n\u001b[1;32m   1216\u001b[0m             \u001b[38;5;28;01mbreak\u001b[39;00m\n\u001b[1;32m   1217\u001b[0m \u001b[38;5;28;01mexcept\u001b[39;00m \u001b[38;5;167;01mKeyboardInterrupt\u001b[39;00m:\n\u001b[1;32m   1218\u001b[0m     \u001b[38;5;66;03m# re-raise KeyboardInterrupt, to truncate traceback\u001b[39;00m\n\u001b[0;32m-> 1219\u001b[0m     \u001b[38;5;28;01mraise\u001b[39;00m \u001b[38;5;167;01mKeyboardInterrupt\u001b[39;00m(\u001b[38;5;124m\"\u001b[39m\u001b[38;5;124mInterrupted by user\u001b[39m\u001b[38;5;124m\"\u001b[39m) \u001b[38;5;28;01mfrom\u001b[39;00m \u001b[38;5;28mNone\u001b[39m\n\u001b[1;32m   1220\u001b[0m \u001b[38;5;28;01mexcept\u001b[39;00m \u001b[38;5;167;01mException\u001b[39;00m:\n\u001b[1;32m   1221\u001b[0m     \u001b[38;5;28mself\u001b[39m\u001b[38;5;241m.\u001b[39mlog\u001b[38;5;241m.\u001b[39mwarning(\u001b[38;5;124m\"\u001b[39m\u001b[38;5;124mInvalid Message:\u001b[39m\u001b[38;5;124m\"\u001b[39m, exc_info\u001b[38;5;241m=\u001b[39m\u001b[38;5;28;01mTrue\u001b[39;00m)\n",
      "\u001b[0;31mKeyboardInterrupt\u001b[0m: Interrupted by user"
     ]
    }
   ],
   "source": [
    "def credit_transaction():\n",
    "    transaction = {\n",
    "        'date': input('date: '),\n",
    "        'description': input('description: '),\n",
    "        'dollar_amount': input('dollar amount: ')\n",
    "    }\n",
    "    save_file(transaction)\n",
    "    menu()\n",
    "    return(transaction)\n",
    "\n",
    "credit_transaction()"
   ]
  },
  {
   "cell_type": "code",
   "execution_count": null,
   "id": "06e68e97",
   "metadata": {},
   "outputs": [],
   "source": []
  }
 ],
 "metadata": {
  "kernelspec": {
   "display_name": "Python 3 (ipykernel)",
   "language": "python",
   "name": "python3"
  },
  "language_info": {
   "codemirror_mode": {
    "name": "ipython",
    "version": 3
   },
   "file_extension": ".py",
   "mimetype": "text/x-python",
   "name": "python",
   "nbconvert_exporter": "python",
   "pygments_lexer": "ipython3",
   "version": "3.9.13"
  }
 },
 "nbformat": 4,
 "nbformat_minor": 5
}
