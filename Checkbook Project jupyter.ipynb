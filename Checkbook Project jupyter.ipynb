{
 "cells": [
  {
   "cell_type": "markdown",
   "id": "94f0868c",
   "metadata": {},
   "source": [
    "### Welcome user"
   ]
  },
  {
   "cell_type": "code",
   "execution_count": 15,
   "id": "a1ffcd10",
   "metadata": {},
   "outputs": [
    {
     "name": "stdout",
     "output_type": "stream",
     "text": [
      "Welcome! What is your name? Adriana\n"
     ]
    },
    {
     "data": {
      "text/plain": [
       "'Adriana'"
      ]
     },
     "execution_count": 15,
     "metadata": {},
     "output_type": "execute_result"
    }
   ],
   "source": [
    "def greeting():\n",
    "    name = input('Welcome! What is your name? ')\n",
    "    return(name)\n",
    "\n",
    "greeting()"
   ]
  },
  {
   "cell_type": "code",
   "execution_count": 21,
   "id": "c118d65b",
   "metadata": {},
   "outputs": [],
   "source": [
    "def menu():\n",
    "    print(greeting() + ', what would you like to do?' + '\\n1. View current balance','\\n2. Add a debit transaction','\\n3. Add a credit transaction','\\n4. Exit')\n",
    "    selection = input(name + ' What would you like to do? ')\n",
    "    if selection == '1':\n",
    "        current_balance()\n",
    "    elif selection == '2':\n",
    "        debit_transaction()\n",
    "    elif selection == '3':\n",
    "        credit_transaction()\n",
    "    elif selection == '4':\n",
    "        exit()\n",
    "    return selection"
   ]
  },
  {
   "cell_type": "code",
   "execution_count": 20,
   "id": "ada7b1be",
   "metadata": {},
   "outputs": [
    {
     "name": "stdout",
     "output_type": "stream",
     "text": [
      "Welcome! What is your name? Adriana\n",
      "Adriana, what would you like to do?\n",
      "1. View current balance \n",
      "2. Add a debit transaction \n",
      "3. Add a credit transaction \n",
      "4. Exit\n"
     ]
    },
    {
     "ename": "NameError",
     "evalue": "name 'name' is not defined",
     "output_type": "error",
     "traceback": [
      "\u001b[0;31m---------------------------------------------------------------------------\u001b[0m",
      "\u001b[0;31mNameError\u001b[0m                                 Traceback (most recent call last)",
      "Input \u001b[0;32mIn [20]\u001b[0m, in \u001b[0;36m<cell line: 1>\u001b[0;34m()\u001b[0m\n\u001b[0;32m----> 1\u001b[0m \u001b[43mmenu\u001b[49m\u001b[43m(\u001b[49m\u001b[43m)\u001b[49m\n",
      "Input \u001b[0;32mIn [19]\u001b[0m, in \u001b[0;36mmenu\u001b[0;34m()\u001b[0m\n\u001b[1;32m      1\u001b[0m \u001b[38;5;28;01mdef\u001b[39;00m \u001b[38;5;21mmenu\u001b[39m():\n\u001b[1;32m      2\u001b[0m     \u001b[38;5;28mprint\u001b[39m(greeting() \u001b[38;5;241m+\u001b[39m \u001b[38;5;124m'\u001b[39m\u001b[38;5;124m, what would you like to do?\u001b[39m\u001b[38;5;124m'\u001b[39m \u001b[38;5;241m+\u001b[39m \u001b[38;5;124m'\u001b[39m\u001b[38;5;130;01m\\n\u001b[39;00m\u001b[38;5;124m1. View current balance\u001b[39m\u001b[38;5;124m'\u001b[39m,\u001b[38;5;124m'\u001b[39m\u001b[38;5;130;01m\\n\u001b[39;00m\u001b[38;5;124m2. Add a debit transaction\u001b[39m\u001b[38;5;124m'\u001b[39m,\u001b[38;5;124m'\u001b[39m\u001b[38;5;130;01m\\n\u001b[39;00m\u001b[38;5;124m3. Add a credit transaction\u001b[39m\u001b[38;5;124m'\u001b[39m,\u001b[38;5;124m'\u001b[39m\u001b[38;5;130;01m\\n\u001b[39;00m\u001b[38;5;124m4. Exit\u001b[39m\u001b[38;5;124m'\u001b[39m)\n\u001b[0;32m----> 3\u001b[0m     selection \u001b[38;5;241m=\u001b[39m \u001b[38;5;28minput\u001b[39m(\u001b[43mname\u001b[49m \u001b[38;5;241m+\u001b[39m \u001b[38;5;124m'\u001b[39m\u001b[38;5;124m What would you like to do? \u001b[39m\u001b[38;5;124m'\u001b[39m)\n\u001b[1;32m      4\u001b[0m     \u001b[38;5;28;01mif\u001b[39;00m selection \u001b[38;5;241m==\u001b[39m \u001b[38;5;124m'\u001b[39m\u001b[38;5;124m1\u001b[39m\u001b[38;5;124m'\u001b[39m:\n\u001b[1;32m      5\u001b[0m         current_balance()\n",
      "\u001b[0;31mNameError\u001b[0m: name 'name' is not defined"
     ]
    }
   ],
   "source": [
    "menu()"
   ]
  },
  {
   "cell_type": "markdown",
   "id": "9847dd56",
   "metadata": {},
   "source": [
    "### View current balance"
   ]
  },
  {
   "cell_type": "code",
   "execution_count": 7,
   "id": "d575c316",
   "metadata": {},
   "outputs": [
    {
     "name": "stdout",
     "output_type": "stream",
     "text": [
      "That file already exists.\n",
      "['current balance: 0']\n"
     ]
    }
   ],
   "source": [
    "def current_balance():\n",
    "    import os\n",
    "    if os.path.exists('my_file.txt'):\n",
    "        print('That file already exists.')\n",
    "        with open('my_file.txt', 'r') as f:\n",
    "            lines = f.readlines()\n",
    "        print(lines)\n",
    "    else:\n",
    "        print('File created.')\n",
    "        with open('my_file.txt', 'w') as f:\n",
    "            f.write('current balance: 0')\n",
    "            \n",
    "current_balance()"
   ]
  },
  {
   "cell_type": "markdown",
   "id": "be84e0ab",
   "metadata": {},
   "source": [
    "### Add a debit (withdraw)"
   ]
  },
  {
   "cell_type": "code",
   "execution_count": 3,
   "id": "bf3243e6",
   "metadata": {},
   "outputs": [
    {
     "name": "stdout",
     "output_type": "stream",
     "text": [
      "date: kk\n",
      "description: kk\n",
      "dollar amount: kk\n"
     ]
    },
    {
     "data": {
      "text/plain": [
       "{'date': 'kk', 'description': 'kk', 'dollar_amount': 'kk'}"
      ]
     },
     "execution_count": 3,
     "metadata": {},
     "output_type": "execute_result"
    }
   ],
   "source": [
    "def debit_transaction():\n",
    "    transaction = {\n",
    "        'date': input('date: '),\n",
    "        'description': input('description: '),\n",
    "        'dollar_amount': input('dollar amount: ')\n",
    "    }\n",
    "    \n",
    "    return(transaction)\n",
    "\n",
    "debit_transaction()"
   ]
  },
  {
   "cell_type": "markdown",
   "id": "afb1398f",
   "metadata": {},
   "source": [
    "### Add a credit (deposit)"
   ]
  },
  {
   "cell_type": "code",
   "execution_count": 4,
   "id": "e1d8f19a",
   "metadata": {},
   "outputs": [
    {
     "name": "stdout",
     "output_type": "stream",
     "text": [
      "date: ff\n",
      "description: ff\n",
      "dollar amount: ff\n"
     ]
    },
    {
     "data": {
      "text/plain": [
       "{'date': 'ff', 'description': 'ff', 'dollar_amount': 'ff'}"
      ]
     },
     "execution_count": 4,
     "metadata": {},
     "output_type": "execute_result"
    }
   ],
   "source": [
    "def credit_transaction():\n",
    "    transaction = {\n",
    "        'date': input('date: '),\n",
    "        'description': input('description: '),\n",
    "        'dollar_amount': input('dollar amount: ')\n",
    "    }\n",
    "    \n",
    "    return(transaction)\n",
    "credit_transaction()"
   ]
  },
  {
   "cell_type": "markdown",
   "id": "da9369bb",
   "metadata": {},
   "source": [
    "### Exit"
   ]
  },
  {
   "cell_type": "code",
   "execution_count": 169,
   "id": "4abaeb05",
   "metadata": {},
   "outputs": [],
   "source": [
    "def exit():\n",
    "    goodbye = exit()\n",
    "    return goodbye"
   ]
  },
  {
   "cell_type": "code",
   "execution_count": null,
   "id": "70e31009",
   "metadata": {},
   "outputs": [],
   "source": []
  }
 ],
 "metadata": {
  "kernelspec": {
   "display_name": "Python 3 (ipykernel)",
   "language": "python",
   "name": "python3"
  },
  "language_info": {
   "codemirror_mode": {
    "name": "ipython",
    "version": 3
   },
   "file_extension": ".py",
   "mimetype": "text/x-python",
   "name": "python",
   "nbconvert_exporter": "python",
   "pygments_lexer": "ipython3",
   "version": "3.9.13"
  }
 },
 "nbformat": 4,
 "nbformat_minor": 5
}
